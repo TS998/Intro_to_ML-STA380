{
 "cells": [
  {
   "cell_type": "markdown",
   "metadata": {},
   "source": [
    "## Probability practice (Part A)"
   ]
  },
  {
   "cell_type": "markdown",
   "metadata": {},
   "source": [
    "P(Yes | Truthful clicker) = P(Yes,Truthful clicker) / P(Truthful clickers)\n",
    "P(Yes) = 0.65\n",
    "P(No) = 0.35\n",
    "P(Random clicker) = 0.3\n",
    "\n",
    "P(Yes) = P(Yes,Truthful clicker) + P(Yes,Random clicker)\n",
    "P(Yes) = P(Truthful clicker) * P(Yes | Truthful clicker) + P(Random clicker) * P(Yes | Random clicker)\n",
    "0.65 = 0.7 * x + 0.3*0.5\n",
    "x = (0.65 - 0.15)/0.7\n",
    "x = 0.712\n",
    "\n",
    "What fraction of people who are truthful clickers answered yes? - 0.712"
   ]
  },
  {
   "cell_type": "markdown",
   "metadata": {},
   "source": [
    "## Probability practice (Part B)"
   ]
  },
  {
   "cell_type": "markdown",
   "metadata": {},
   "source": [
    "P (Positive | Disease) = 0.993\n",
    "P (Negative | No Disease) = 0.9999\n",
    "P (Disease) = 0.000025\n",
    "P (Negative | Disease) = 0.007\n",
    "P (Disease | Positive) =  P(Disease,Positive) / P(Positive)\n",
    "\n",
    "\n",
    "P (Positive) = P(Positive, Disease) + P(Positive, No Disease)\n",
    "\n",
    "P (Positive) = P(Disease) * P(Positive | Disease) + P(No Disease) * P(Positive | No Disease)\n",
    "\n",
    "P(Positive) = 0.000025*0.993 + (1-0.000025)*(1-0.9999)\n",
    "P(Positive) = 0.0001248\n",
    "\n",
    "P (Disease | Positive) =  P(Positive | Disease) * P(Disease) / P(Positive)\n",
    "\n",
    "P (Disease | Positive) = (0.993*0.000025)/0.0001248 = 0.1989\n",
    "\n",
    "The probability that a person has the disease given they tested positive is 0.1989"
   ]
  }
 ],
 "metadata": {
  "language_info": {
   "name": "python"
  }
 },
 "nbformat": 4,
 "nbformat_minor": 2
}
